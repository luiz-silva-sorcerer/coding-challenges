{
 "cells": [
  {
   "cell_type": "code",
   "execution_count": 77,
   "metadata": {},
   "outputs": [],
   "source": [
    "from IPython.core.interactiveshell import InteractiveShell\n",
    "InteractiveShell.ast_node_interactivity = 'all'\n",
    "# Definition for singly-linked list.\n",
    "class ListNode:\n",
    "    def __init__(self, val=0, next=None):\n",
    "        if isinstance(val, list):\n",
    "            self.val = val[0]\n",
    "            self.next = ListNode(val[1:]) if len(val) > 1 else None\n",
    "        else:\n",
    "            self.val = val\n",
    "            self.next = next    \n",
    "    def __repr__(self) -> str:\n",
    "        return \" {val:\" + str(self.val) + \" next:\" + str(self.next) + \"} \"\n",
    "        # return \"test\"\n",
    "        "
   ]
  },
  {
   "cell_type": "code",
   "execution_count": 91,
   "metadata": {},
   "outputs": [],
   "source": [
    "from typing import Optional\n",
    "class Solution:\n",
    "    def addTwoNumbers(self, l1: Optional[ListNode], l2: Optional[ListNode]) -> Optional[ListNode]:\n",
    "\n",
    "        sum_val = l1.val + l2.val\n",
    "        rem_val = sum_val % 10\n",
    "        sum_val = int(sum_val / 10)\n",
    "\n",
    "        # endcase:\n",
    "        if l1.next is None and l2.next is None:\n",
    "            # if sum_val == 0:\n",
    "            #     return ListNode(rem_val)\n",
    "            # else:\n",
    "            #     return ListNode(rem_val, ListNode(sum_val))\n",
    "            return ListNode(rem_val, ListNode(sum_val) if sum_val != 0 else None)\n",
    "\n",
    "        # one longer than the other\n",
    "        elif l1.next is None or l2.next is None:\n",
    "            return ListNode(rem_val, self.addTwoNumbers(l1.next if (l2.next is None) else l2.next, ListNode(sum_val)))\n",
    "\n",
    "        # both deeper than 1\n",
    "        else:\n",
    "            return ListNode(rem_val, self.addTwoNumbers(ListNode(sum_val), self.addTwoNumbers(l1.next, l2.next)))"
   ]
  },
  {
   "cell_type": "code",
   "execution_count": 78,
   "metadata": {},
   "outputs": [
    {
     "data": {
      "text/plain": [
       " {val:1 next: {val:2 next:None} } "
      ]
     },
     "execution_count": 78,
     "metadata": {},
     "output_type": "execute_result"
    }
   ],
   "source": [
    "l1 = ListNode(1)\n",
    "l2 = ListNode(2)\n",
    "l3 = ListNode([1,2])\n",
    "\n",
    "l3"
   ]
  },
  {
   "cell_type": "code",
   "execution_count": 93,
   "metadata": {},
   "outputs": [
    {
     "data": {
      "text/plain": [
       " {val:4 next:None} "
      ]
     },
     "execution_count": 93,
     "metadata": {},
     "output_type": "execute_result"
    },
    {
     "data": {
      "text/plain": [
       " {val:4 next: {val:2 next:None} } "
      ]
     },
     "execution_count": 93,
     "metadata": {},
     "output_type": "execute_result"
    },
    {
     "data": {
      "text/plain": [
       " {val:2 next: {val:9 next: {val:5 next:None} } } "
      ]
     },
     "execution_count": 93,
     "metadata": {},
     "output_type": "execute_result"
    },
    {
     "data": {
      "text/plain": [
       " {val:2 next: {val:1 next:None} } "
      ]
     },
     "execution_count": 93,
     "metadata": {},
     "output_type": "execute_result"
    },
    {
     "data": {
      "text/plain": [
       " {val:8 next: {val:9 next: {val:9 next: {val:9 next: {val:0 next: {val:0 next: {val:0 next: {val:1 next:None} } } } } } } } "
      ]
     },
     "execution_count": 93,
     "metadata": {},
     "output_type": "execute_result"
    }
   ],
   "source": [
    "s = Solution()\n",
    "\n",
    "# s.addTwoNumbers(l1, l2)\n",
    "\n",
    "s.addTwoNumbers(ListNode(1), ListNode(3))\n",
    "s.addTwoNumbers(ListNode(1, ListNode(2)), ListNode(3))\n",
    "s.addTwoNumbers(ListNode(9, ListNode(2, ListNode(5))), ListNode(3, ListNode(6)))\n",
    "s.addTwoNumbers(ListNode(9), ListNode(3))\n",
    "s.addTwoNumbers(ListNode([9,9,9,9,9,9,9]), ListNode([9,9,9,9]))\n"
   ]
  },
  {
   "cell_type": "code",
   "execution_count": null,
   "metadata": {},
   "outputs": [],
   "source": []
  }
 ],
 "metadata": {
  "kernelspec": {
   "display_name": "Python 3",
   "language": "python",
   "name": "python3"
  },
  "language_info": {
   "codemirror_mode": {
    "name": "ipython",
    "version": 3
   },
   "file_extension": ".py",
   "mimetype": "text/x-python",
   "name": "python",
   "nbconvert_exporter": "python",
   "pygments_lexer": "ipython3",
   "version": "3.12.1"
  }
 },
 "nbformat": 4,
 "nbformat_minor": 2
}
